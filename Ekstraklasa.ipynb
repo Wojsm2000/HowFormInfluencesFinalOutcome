{
 "cells": [
  {
   "cell_type": "code",
   "execution_count": 32,
   "id": "6e45c3f4-b0bf-4e59-b1ee-f0454039dc72",
   "metadata": {
    "tags": []
   },
   "outputs": [],
   "source": [
    "from bs4 import BeautifulSoup\n",
    "import requests\n",
    "from datetime import datetime\n",
    "import pandas as pd\n",
    "from datetime import timedelta\n",
    "\n",
    "page = requests.get(\"http://www.90minut.pl/liga/1/liga12330.html\")\n",
    "soup = BeautifulSoup(page.content, features=\"html.parser\")\n",
    "scores = soup.findAll(\"a\", {\"class\": \"main\"})\n",
    "dates = soup.findAll(\"td\", valign=\"top\", align=\"left\",width=\"190\")\n",
    "soup = soup.findAll(\"td\", valign=\"top\", width=\"180\")\n",
    "months = {\n",
    "    \"stycznia\": \"January\",\n",
    "    \"lutego\": \"February\",\n",
    "    \"marca\": \"March\",\n",
    "    \"kwietnia\": \"April\",\n",
    "    \"maja\": \"May\",\n",
    "    \"czerwca\": \"June\",\n",
    "    \"lipca\": \"July\",\n",
    "    \"sierpnia\": \"August\",\n",
    "    \"września\": \"September\",\n",
    "    \"października\": \"October\",\n",
    "    \"listopada\": \"November\",\n",
    "    \"grudnia\": \"December\"\n",
    "}"
   ]
  },
  {
   "cell_type": "code",
   "execution_count": 3,
   "id": "6268a614-da96-44a5-8de8-4b03c5a74031",
   "metadata": {
    "scrolled": true,
    "tags": []
   },
   "outputs": [],
   "source": [
    "def delete_comma(text:str)->str:\n",
    "    if ',' in text:\n",
    "        return text.split(',')[0]\n",
    "    else:\n",
    "        return text"
   ]
  },
  {
   "cell_type": "code",
   "execution_count": 4,
   "id": "5a31fb79-d327-4c6a-9f0b-1575a200fb67",
   "metadata": {
    "tags": []
   },
   "outputs": [],
   "source": [
    "def pl_months_to_eng(data_str:str)->datetime:\n",
    "\n",
    "\n",
    "    day, month, year = data_str.split()\n",
    "\n",
    "\n",
    "    month = months[month]\n",
    "\n",
    "\n",
    "    data_str_en = f\"{day} {month} {year}\"\n",
    "\n",
    "\n",
    "    data = datetime.strptime(data_str_en, \"%d %B %Y\")\n",
    "    return data"
   ]
  },
  {
   "cell_type": "code",
   "execution_count": 5,
   "id": "3ede9425",
   "metadata": {
    "tags": []
   },
   "outputs": [],
   "source": [
    "def add_points(team:str,points:float,table):\n",
    "       table[table(table[\"Team_name\"].equals(team)).index,1]=+points"
   ]
  },
  {
   "cell_type": "code",
   "execution_count": 62,
   "metadata": {},
   "outputs": [],
   "source": [
    "EXTRA_POINTS_WIN=0.2\n",
    "EXTRA_POINTS_DRAW=0.0\n",
    "POINTS_WIN=3.0\n",
    "POINTS_DRAW=1.0\n",
    "POINTS_LOST=0.0\n",
    "pd.options.mode.chained_assignment = None  # default='warn'"
   ]
  },
  {
   "cell_type": "code",
   "execution_count": 7,
   "id": "17e9e21f-6040-4faf-b06f-ef7cf98e56e3",
   "metadata": {
    "tags": []
   },
   "outputs": [],
   "source": [
    "team = []\n",
    "score = []\n",
    "date=[]\n",
    "new_date=[]\n",
    "for i in soup:\n",
    "    team.append(i.getText())\n",
    "for i in scores:\n",
    "    score.append(i.getText())\n",
    "for i in dates:\n",
    "    date.append(i.getText())\n",
    "\n",
    "score=score[:len(score)-2]\n",
    "score=score[-307:]\n",
    "score=score[:len(score)]\n",
    "score.remove('(wo) ')\n",
    "new_date=list(map(delete_comma,date))\n",
    "\n",
    "home=[]\n",
    "away=[]\n",
    "for i in range(0,len(team)):\n",
    "    if i%2==0:\n",
    "        home.append(team[i])\n",
    "    else:\n",
    "        away.append(team[i])   \n",
    "for i in range(0,len(new_date)):\n",
    "    if \"lipca\" in new_date[i] or \"sierpnia\" in new_date[i] or \"września\" in new_date[i] or \"października\" in new_date[i] or \"listopada\" in new_date[i]:\n",
    "        new_date[i]+=\" 2021\"\n",
    "    else:\n",
    "        new_date[i]+= \" 2022\"\n",
    "        \n",
    "\n",
    "    "
   ]
  },
  {
   "cell_type": "code",
   "execution_count": 8,
   "id": "35835fd7-9c01-450d-ab9a-939d428e4f5d",
   "metadata": {
    "tags": []
   },
   "outputs": [],
   "source": [
    "t_date=list(map(pl_months_to_eng,new_date))\n"
   ]
  },
  {
   "cell_type": "code",
   "execution_count": 9,
   "id": "06a0f67d-4dd9-4026-a05e-cc221f8a3706",
   "metadata": {
    "tags": []
   },
   "outputs": [],
   "source": [
    "home_goal=[]\n",
    "away_goal=[]\n",
    "for i in score:\n",
    "    home_goal.append(i[0])\n",
    "    away_goal.append(i[2])\n",
    "\n"
   ]
  },
  {
   "cell_type": "code",
   "execution_count": 10,
   "id": "a61ab541-2b5a-432d-b137-d14aae62a092",
   "metadata": {
    "tags": []
   },
   "outputs": [],
   "source": [
    "dataMatrix={'Home_team':home,\n",
    "            'Home_score':list(map(int,home_goal)),\n",
    "            'Away_score':list(map(int,away_goal)),\n",
    "            'Away_team':away,\n",
    "            'date':t_date}\n",
    "out_data=pd.DataFrame(dataMatrix)\n"
   ]
  },
  {
   "cell_type": "code",
   "execution_count": 11,
   "id": "c40f100c-d0be-49d1-b828-0a115a62b5dd",
   "metadata": {
    "tags": []
   },
   "outputs": [
    {
     "name": "stdout",
     "output_type": "stream",
     "text": [
      "                     Home_team  Home_score  Away_score           Away_team  \\\n",
      "0              Górnik Zabrze             0           2          Cracovia     \n",
      "1      Jagiellonia Białystok             2           0     Piast Gliwice     \n",
      "2              Korona Kielce             1           1    Legia Warszawa     \n",
      "3                Lech Poznań             0           2       Stal Mielec     \n",
      "4             Pogoń Szczecin             2           1       Widzew Łódź     \n",
      "..                         ...         ...         ...                 ...   \n",
      "301            Piast Gliwice             3           0     Lechia Gdańsk     \n",
      "302           Pogoń Szczecin             4           0    Radomiak Radom     \n",
      "303        Raków Częstochowa             1           1    Zagłębie Lubin     \n",
      "304              Stal Mielec             1           0      Warta Poznań     \n",
      "305              Widzew Łódź             0           3     Korona Kielce     \n",
      "\n",
      "          date  Points_home  Points_away  \n",
      "0   2021-07-18          0.0          3.0  \n",
      "1   2021-07-16          3.0          0.0  \n",
      "2   2021-07-16          1.0          1.0  \n",
      "3   2021-07-16          0.0          3.0  \n",
      "4   2021-07-17          3.0          0.0  \n",
      "..         ...          ...          ...  \n",
      "301 2022-05-27          3.0          0.0  \n",
      "302 2022-05-27          3.0          0.0  \n",
      "303 2022-05-27          1.0          1.0  \n",
      "304 2022-05-27          3.0          0.0  \n",
      "305 2022-05-27          0.0          3.0  \n",
      "\n",
      "[306 rows x 7 columns]\n"
     ]
    }
   ],
   "source": [
    "points_home=[]\n",
    "points_away=[]\n",
    "for i in range(0,len(out_data.iloc[:,0])):\n",
    "    if (out_data.iloc[i,1]>out_data.iloc[i,2]):\n",
    "        points_home.append(POINTS_WIN)\n",
    "        points_away.append(POINTS_LOST)\n",
    "    elif (out_data.iloc[i,1]<out_data.iloc[i,2]):\n",
    "        points_home.append(POINTS_LOST)\n",
    "        points_away.append(POINTS_WIN)\n",
    "    else:\n",
    "        points_home.append(POINTS_DRAW)\n",
    "        points_away.append(POINTS_DRAW)\n",
    "out_data[\"Points_home\"]=points_home\n",
    "out_data[\"Points_away\"]=points_away\n",
    "print(out_data)          "
   ]
  },
  {
   "cell_type": "code",
   "execution_count": 12,
   "id": "1525b176-f603-4b07-acbe-b22689e1d9f3",
   "metadata": {
    "tags": []
   },
   "outputs": [],
   "source": [
    "team=out_data[\"Home_team\"].unique()\n",
    "points=[0]*len(team)\n",
    "Table={\"Team_name\":team,\n",
    "      \"Points\":points}\n",
    "Table=pd.DataFrame(Table)\n",
    "\n"
   ]
  },
  {
   "cell_type": "code",
   "execution_count": 13,
   "id": "6e90118e",
   "metadata": {
    "tags": []
   },
   "outputs": [],
   "source": [
    "\n",
    "for i in range(0,len(out_data[\"Home_team\"])):    \n",
    "    p=out_data.iloc[i][\"Points_home\"]\n",
    "    t=out_data.iloc[i][\"Home_team\"]\n",
    "    for j in range(0,len(Table['Team_name'])):\n",
    "        if Table.iloc[j]['Team_name'] == t:\n",
    "            Table.iat[j,1]=Table.iat[j,1]+p       \n",
    "    p=out_data.iloc[i][\"Points_away\"]\n",
    "    t=out_data.iloc[i][\"Away_team\"]\n",
    "    for j in range(0,len(Table['Team_name'])):\n",
    "        if Table.iloc[j]['Team_name'] == t:\n",
    "            Table.iat[j,1]=Table.iat[j,1]+p      \n",
    "    \n",
    "\n"
   ]
  },
  {
   "cell_type": "code",
   "execution_count": 14,
   "id": "5ecfcc82-9556-430a-a96c-367589daec41",
   "metadata": {
    "tags": []
   },
   "outputs": [
    {
     "name": "stdout",
     "output_type": "stream",
     "text": [
      "                     Home_team  Home_score  Away_score           Away_team  \\\n",
      "6          Raków Częstochowa             1           0      Warta Poznań     \n",
      "8             Zagłębie Lubin             0           0     Śląsk Wrocław     \n",
      "1      Jagiellonia Białystok             2           0     Piast Gliwice     \n",
      "2              Korona Kielce             1           1    Legia Warszawa     \n",
      "3                Lech Poznań             0           2       Stal Mielec     \n",
      "..                         ...         ...         ...                 ...   \n",
      "300            Miedź Legnica             0           0     Górnik Zabrze     \n",
      "301            Piast Gliwice             3           0     Lechia Gdańsk     \n",
      "302           Pogoń Szczecin             4           0    Radomiak Radom     \n",
      "303        Raków Częstochowa             1           1    Zagłębie Lubin     \n",
      "305              Widzew Łódź             0           3     Korona Kielce     \n",
      "\n",
      "          date  Points_home  Points_away  \n",
      "6   2021-07-15          3.0          0.0  \n",
      "8   2021-07-15          1.0          1.0  \n",
      "1   2021-07-16          3.0          0.0  \n",
      "2   2021-07-16          1.0          1.0  \n",
      "3   2021-07-16          0.0          3.0  \n",
      "..         ...          ...          ...  \n",
      "300 2022-05-27          1.0          1.0  \n",
      "301 2022-05-27          3.0          0.0  \n",
      "302 2022-05-27          3.0          0.0  \n",
      "303 2022-05-27          1.0          1.0  \n",
      "305 2022-05-27          0.0          3.0  \n",
      "\n",
      "[306 rows x 7 columns]\n"
     ]
    }
   ],
   "source": [
    "out_data=out_data.sort_values(by=['date'], ascending=True)\n",
    "print(out_data)"
   ]
  },
  {
   "cell_type": "code",
   "execution_count": 15,
   "id": "c47736a2-ae3f-4e6f-bac7-80cf3db74aac",
   "metadata": {},
   "outputs": [],
   "source": [
    "points_home=[]\n",
    "points_away=[]\n",
    "for i in range(0,len(out_data.iloc[:,0])):\n",
    "    if (out_data.iloc[i,1]>out_data.iloc[i,2]):\n",
    "        points_home.append(EXTRA_POINTS_WIN)\n",
    "        points_away.append(-EXTRA_POINTS_WIN)\n",
    "    elif (out_data.iloc[i,1]<out_data.iloc[i,2]):\n",
    "        points_home.append(-EXTRA_POINTS_WIN)\n",
    "        points_away.append(EXTRA_POINTS_WIN)\n",
    "    else:\n",
    "        points_home.append(EXTRA_POINTS_DRAW)\n",
    "        points_away.append(EXTRA_POINTS_DRAW)\n",
    "out_data[\"Home_team_temp_points\"]=points_home\n",
    "out_data[\"Away_team_temp_points\"]=points_away"
   ]
  },
  {
   "cell_type": "code",
   "execution_count": 60,
   "metadata": {},
   "outputs": [],
   "source": [
    "def get_team_form(team_name:str)->dict:\n",
    "    tmpTeam=(out_data[out_data[\"Away_team\"].str.contains(team_name) | out_data[\"Home_team\"].str.contains(team_name)])\n",
    "\n",
    "    dateDiff=[]\n",
    "    for i in range(1,len(tmpTeam.iloc[:,0])):\n",
    "        dateDiff.append(tmpTeam.iloc[i][4]-tmpTeam.iloc[i-1][4])\n",
    "    dateDiff.insert(0,0)\n",
    "\n",
    "    tmpTeam[\"Data_difference\"]=dateDiff\n",
    "\n",
    "\n",
    "    tmpTeamPoints=[]\n",
    "    for i in range (0,len(tmpTeam.iloc[:,0])):\n",
    "        if(tmpTeam.iloc[i][0]==team_name):\n",
    "            tmpTeamPoints.append(tmpTeam.iloc[i][7])\n",
    "        if(tmpTeam.iloc[i][3]==team_name):\n",
    "            tmpTeamPoints.append(tmpTeam.iloc[i][8])\n",
    "                    \n",
    "\n",
    "\n",
    "\n",
    "    dateDiff=[i.total_seconds() for i in dateDiff if isinstance(i,timedelta)]\n",
    "\n",
    "    dateDiff.insert(0,0)\n",
    "    print(max(dateDiff))\n",
    "    addedPoints=[]\n",
    "    j=0\n",
    "    for i in range(len(tmpTeamPoints)): \n",
    "        if i<4:\n",
    "            addedPoints.append(tmpTeamPoints[i])\n",
    "        else:\n",
    "            if (dateDiff[i]==max(dateDiff) and j==0) or (j<4 and j>0):\n",
    "                j+=1\n",
    "                addedPoints.append(tmpTeamPoints[i])\n",
    "            else:    \n",
    "                addedPoints.append(round(sum(tmpTeamPoints[i-4:i]),2))\n",
    "\n",
    "    my_dict = dict(zip(tmpTeam.index, addedPoints))\n",
    "    return my_dict\n"
   ]
  },
  {
   "cell_type": "code",
   "execution_count": 66,
   "id": "91b77cc4",
   "metadata": {},
   "outputs": [
    {
     "name": "stdout",
     "output_type": "stream",
     "text": [
      "6307200.0\n",
      "Team name:  Górnik Zabrze  \n",
      " Team form:{0: -0.2, 24: 0.2, 27: 0.2, 37: -0.2, 47: 0.0, 55: 0.2, 70: 0.0, 72: -0.2, 82: 0.0, 90: 0.2, 106: 0.0, 108: -0.2, 123: -0.4, 126: -0.6, 140: -0.2, 144: 0.2, 11: 0.2, 153: -0.2, 162: 0.0, 171: 0.0, 187: -0.2, 193: -0.4, 199: 0.0, 207: -0.2, 216: -0.4, 230: 0.0, 234: -0.4, 251: -0.2, 252: 0.2, 263: 0.2, 270: 0.6, 287: 0.8, 288: 0.8, 300: 0.8}\n",
      "6739200.0\n",
      "Team name:  Jagiellonia Białystok  \n",
      " Team form:{1: 0.2, 10: -0.2, 23: -0.2, 28: -0.2, 43: -0.4, 45: -0.6, 55: -0.2, 71: 0.0, 73: 0.2, 83: 0.4, 91: 0.2, 100: 0.4, 114: 0.4, 122: 0.0, 127: 0.0, 135: -0.4, 145: -0.6, 157: 0.0, 168: 0.0, 172: 0.2, 186: 0.0, 189: 0.2, 202: 0.0, 207: 0.0, 217: 0.0, 231: 0.0, 235: 0.2, 244: 0.4, 260: 0.0, 262: 0.2, 271: 0.4, 280: 0.2, 289: 0.2, 298: 0.0}\n",
      "6739200.0\n",
      "Team name:  Korona Kielce  \n",
      " Team form:{2: 0.0, 9: -0.2, 19: 0.2, 29: 0.2, 38: 0.2, 52: 0.0, 59: 0.0, 64: 0.0, 74: -0.4, 82: -0.2, 91: -0.2, 107: -0.6, 109: -0.4, 120: -0.6, 128: -0.6, 136: -0.4, 146: -0.6, 155: -0.2, 163: 0.2, 176: 0.0, 181: 0.2, 195: 0.2, 200: 0.2, 208: 0.2, 219: 0.4, 226: 0.2, 234: 0.6, 244: 0.4, 253: 0.4, 267: 0.4, 272: 0.0, 281: 0.2, 290: -0.2, 305: -0.4}\n",
      "6566400.0\n",
      "Team name:  Lech Poznań  \n",
      " Team form:{3: -0.2, 20: -0.2, 35: 0.0, 39: -0.2, 56: -0.6, 46: -0.2, 65: 0.2, 75: 0.4, 88: 0.6, 92: 0.6, 101: 0.4, 108: 0.4, 117: 0.6, 129: 0.4, 136: 0.2, 145: 0.2, 158: 0.0, 13: 0.0, 164: 0.2, 178: 0.2, 182: 0.4, 194: 0.2, 201: 0.0, 211: 0.0, 224: -0.2, 227: 0.2, 236: 0.4, 246: 0.4, 257: 0.4, 263: 0.2, 273: 0.0, 283: 0.0, 290: 0.2, 298: 0.4}\n",
      "6566400.0\n",
      "Team name:  Pogoń Szczecin  \n",
      " Team form:{4: 0.2, 16: -0.2, 23: 0.2, 33: 0.2, 41: 0.4, 58: 0.2, 49: 0.6, 64: 0.2, 75: 0.2, 81: 0.2, 94: 0.0, 105: 0.4, 112: 0.0, 118: 0.0, 131: 0.0, 140: 0.0, 148: 0.0, 161: 0.0, 165: -0.2, 172: -0.2, 185: 0.2, 196: -0.2, 203: 0.0, 215: 0.0, 219: 0.4, 227: 0.2, 238: 0.0, 245: 0.4, 256: 0.4, 265: 0.6, 276: 0.6, 282: 0.6, 288: 0.6, 302: 0.2}\n",
      "6480000.0\n",
      "Team name:  Radomiak Radom  \n",
      " Team form:{5: 0.0, 15: 0.0, 24: -0.2, 28: 0.2, 42: 0.0, 53: 0.2, 59: 0.4, 67: 0.4, 76: 0.0, 86: 0.0, 95: -0.4, 101: -0.4, 113: -0.4, 119: -0.4, 132: 0.0, 143: 0.0, 148: 0.4, 156: 0.0, 166: 0.2, 171: 0.0, 186: 0.0, 190: 0.2, 204: 0.4, 208: 0.0, 220: -0.2, 232: -0.4, 239: -0.6, 243: -0.4, 257: -0.4, 268: -0.2, 277: 0.0, 286: -0.2, 292: 0.2, 302: 0.4}\n",
      "6652800.0\n",
      "Team name:  Raków Częstochowa  \n",
      " Team form:{6: 0.2, 25: 0.2, 27: -0.2, 43: 0.0, 61: 0.2, 49: 0.2, 63: 0.2, 77: 0.2, 86: 0.4, 97: 0.4, 14: 0.2, 104: 0.6, 110: 0.6, 120: 0.6, 129: 0.8, 141: 0.8, 152: 0.8, 160: 0.0, 167: 0.2, 175: 0.0, 187: 0.2, 189: 0.4, 203: 0.6, 212: 0.6, 221: 0.8, 229: 0.8, 239: 0.4, 248: 0.2, 255: 0.2, 266: 0.2, 272: 0.6, 283: 0.4, 295: 0.0, 303: 0.0}\n",
      "6825600.0\n",
      "Team name:  Wisła Płock  \n",
      " Team form:{7: 0.2, 17: 0.2, 20: 0.2, 34: 0.2, 41: 0.8, 52: 0.6, 62: 0.6, 70: 0.2, 76: 0.0, 89: -0.2, 98: -0.6, 100: -0.2, 116: -0.2, 121: 0.2, 133: 0.4, 141: 0.0, 151: -0.2, 154: -0.2, 178: -0.2, 183: -0.2, 196: -0.2, 200: -0.8, 169: -0.8, 214: -0.4, 216: -0.2, 232: -0.2, 242: 0.0, 247: 0.0, 260: -0.2, 264: -0.2, 278: -0.4, 285: -0.6, 295: -0.6, 297: -0.6}\n",
      "6652800.0\n",
      "Team name:  Zagłębie Lubin  \n",
      " Team form:{8: 0.0, 12: -0.2, 22: 0.2, 35: 0.0, 40: 0.0, 53: 0.2, 58: 0.2, 71: -0.2, 79: -0.2, 89: -0.4, 90: 0.0, 107: 0.4, 115: 0.4, 125: 0.2, 134: -0.2, 142: -0.6, 152: -0.8, 159: 0.2, 170: -0.2, 179: -0.2, 182: 0.2, 197: 0.0, 204: 0.0, 215: 0.4, 217: 0.4, 233: 0.2, 242: 0.0, 251: -0.4, 253: -0.4, 269: -0.4, 274: -0.2, 279: 0.2, 296: 0.6, 303: 0.8}\n",
      "6912000.0\n",
      "Team name:  Cracovia  \n",
      " Team form:{0: 0.2, 9: 0.2, 18: 0.2, 31: -0.2, 36: 0.4, 50: 0.0, 54: -0.2, 63: -0.6, 80: -0.2, 81: -0.2, 95: -0.2, 99: 0.2, 111: -0.2, 117: 0.0, 134: 0.0, 135: 0.0, 151: 0.4, 153: 0.2, 163: -0.2, 174: 0.0, 180: 0.2, 192: 0.2, 198: -0.2, 213: 0.0, 221: 0.0, 225: -0.4, 238: -0.2, 243: -0.4, 254: -0.2, 261: 0.2, 273: 0.2, 279: 0.2, 289: -0.2, 297: -0.4}\n",
      "6220800.0\n",
      "Team name:  Lechia Gdańsk  \n",
      " Team form:{7: -0.2, 26: 0.2, 29: -0.2, 42: -0.2, 57: -0.4, 46: -0.4, 66: -0.8, 78: -0.6, 83: -0.6, 94: -0.4, 99: -0.4, 110: -0.2, 125: -0.2, 130: 0.0, 137: 0.4, 147: 0.0, 11: 0.0, 154: 0.2, 162: 0.0, 173: 0.0, 181: -0.2, 190: 0.0, 201: -0.4, 209: -0.6, 223: -0.4, 228: -0.4, 235: -0.2, 245: -0.2, 254: -0.6, 266: -0.6, 274: -0.8, 284: -0.8, 291: -0.6, 301: -0.2}\n",
      "6652800.0\n",
      "Team name:  Legia Warszawa  \n",
      " Team form:{2: 0.0, 12: 0.2, 18: -0.2, 30: 0.2, 44: 0.2, 47: 0.4, 60: 0.2, 67: 0.6, 77: 0.6, 84: 0.2, 92: 0.4, 102: 0.2, 116: 0.2, 118: 0.2, 127: 0.0, 137: 0.2, 149: 0.2, 155: 0.2, 170: 0.2, 174: 0.0, 184: 0.2, 191: 0.6, 199: 0.4, 210: 0.4, 220: 0.6, 229: 0.6, 237: 0.8, 246: 0.6, 258: 0.4, 264: 0.0, 276: 0.0, 280: -0.2, 291: 0.0, 299: 0.0}\n",
      "6566400.0\n",
      "Team name:  Miedź Legnica  \n",
      " Team form:{5: 0.0, 21: -0.2, 34: -0.2, 40: -0.2, 45: -0.6, 57: -0.8, 68: -0.4, 74: -0.4, 84: -0.2, 93: -0.2, 104: -0.6, 111: -0.6, 124: -0.6, 131: -0.6, 138: -0.6, 144: -0.2, 156: 0.0, 13: 0.0, 164: -0.2, 177: 0.0, 183: -0.2, 197: 0.0, 202: -0.2, 209: 0.0, 218: -0.2, 226: -0.6, 237: -0.6, 249: -0.6, 255: -0.4, 261: -0.4, 275: -0.2, 282: -0.4, 293: -0.6, 300: -0.6}\n",
      "6652800.0\n",
      "Team name:  Piast Gliwice  \n",
      " Team form:{1: -0.2, 22: -0.2, 30: -0.2, 36: 0.2, 48: -0.4, 56: 0.0, 68: 0.0, 72: 0.4, 85: 0.2, 98: 0.0, 14: 0.0, 103: -0.4, 112: -0.6, 119: -0.6, 128: -0.6, 139: -0.4, 147: -0.4, 157: 0.0, 167: -0.2, 179: 0.2, 184: -0.2, 192: -0.2, 205: 0.0, 211: 0.4, 218: 0.2, 230: 0.6, 240: 0.6, 247: 0.6, 259: 0.8, 265: 0.8, 277: 0.6, 281: 0.6, 294: 0.6, 301: 0.4}\n",
      "6652800.0\n",
      "Team name:  Stal Mielec  \n",
      " Team form:{3: 0.2, 15: 0.0, 25: -0.2, 31: 0.2, 37: 0.2, 48: 0.2, 60: 0.0, 69: 0.0, 73: 0.0, 87: -0.4, 93: -0.4, 105: 0.0, 109: 0.0, 121: 0.4, 130: 0.6, 142: 0.2, 150: 0.2, 158: 0.0, 166: -0.2, 175: 0.0, 180: -0.2, 193: -0.4, 205: -0.6, 210: -0.6, 222: -0.8, 231: -0.6, 241: -0.4, 249: 0.0, 256: 0.2, 267: 0.0, 278: 0.2, 284: 0.0, 296: 0.0, 304: 0.0}\n",
      "6566400.0\n",
      "Team name:  Śląsk Wrocław  \n",
      " Team form:{8: 0.0, 16: 0.2, 19: -0.2, 32: 0.0, 39: 0.0, 50: 0.2, 61: 0.0, 69: 0.0, 78: -0.2, 85: -0.2, 96: -0.2, 106: -0.2, 113: 0.2, 122: -0.2, 133: -0.2, 138: 0.2, 149: -0.2, 159: -0.2, 165: 0.2, 176: 0.0, 188: -0.2, 194: -0.2, 198: 0.2, 212: 0.0, 222: -0.2, 228: 0.0, 240: -0.2, 250: -0.4, 252: -0.4, 268: -0.6, 271: -0.8, 285: -0.6, 293: -0.2, 299: 0.2}\n",
      "6739200.0\n",
      "Team name:  Warta Poznań  \n",
      " Team form:{6: -0.2, 17: -0.2, 21: 0.2, 33: -0.2, 38: -0.4, 51: 0.0, 54: 0.0, 66: 0.0, 79: 0.2, 88: 0.0, 96: 0.0, 102: 0.0, 114: -0.2, 123: 0.0, 132: 0.2, 139: 0.2, 150: 0.6, 160: 0.0, 177: 0.0, 185: -0.2, 195: 0.2, 206: 0.0, 169: 0.2, 213: 0.0, 223: 0.2, 233: 0.2, 236: 0.0, 250: 0.0, 258: 0.2, 262: 0.2, 270: 0.0, 286: 0.0, 294: -0.4, 304: -0.6}\n",
      "6652800.0\n",
      "Team name:  Widzew Łódź  \n",
      " Team form:{4: -0.2, 10: 0.2, 26: -0.2, 32: 0.0, 44: -0.2, 51: -0.2, 62: -0.2, 65: 0.2, 80: 0.0, 87: 0.4, 97: 0.4, 103: 0.2, 115: 0.6, 124: 0.6, 126: 0.6, 143: 0.4, 146: 0.0, 161: 0.0, 168: 0.0, 173: 0.0, 188: 0.2, 191: 0.2, 206: 0.2, 214: 0.0, 224: 0.0, 225: -0.4, 241: -0.4, 248: -0.4, 259: -0.6, 269: -0.6, 275: -0.8, 287: -0.4, 292: -0.4, 305: -0.4}\n"
     ]
    }
   ],
   "source": [
    "for t in team:\n",
    "    print(f\"Team name:{t}\\n Team form:{get_team_form(t)}\") "
   ]
  }
 ],
 "metadata": {
  "celltoolbar": "Raw Cell Format",
  "kernelspec": {
   "display_name": "base",
   "language": "python",
   "name": "python3"
  },
  "language_info": {
   "codemirror_mode": {
    "name": "ipython",
    "version": 3
   },
   "file_extension": ".py",
   "mimetype": "text/x-python",
   "name": "python",
   "nbconvert_exporter": "python",
   "pygments_lexer": "ipython3",
   "version": "3.11.5"
  },
  "toc-autonumbering": true,
  "toc-showcode": true,
  "toc-showmarkdowntxt": true,
  "widgets": {
   "application/vnd.jupyter.widget-state+json": {
    "state": {},
    "version_major": 2,
    "version_minor": 0
   }
  }
 },
 "nbformat": 4,
 "nbformat_minor": 5
}
