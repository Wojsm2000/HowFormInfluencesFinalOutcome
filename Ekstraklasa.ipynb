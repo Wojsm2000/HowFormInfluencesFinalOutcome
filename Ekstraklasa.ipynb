{
 "cells": [
  {
   "cell_type": "code",
   "execution_count": 79,
   "id": "6e45c3f4-b0bf-4e59-b1ee-f0454039dc72",
   "metadata": {
    "tags": []
   },
   "outputs": [],
   "source": [
    "from bs4 import BeautifulSoup\n",
    "import requests\n",
    "from datetime import datetime\n",
    "import pandas as pd\n",
    "from datetime import timedelta\n",
    "\n",
    "page = requests.get(\"http://www.90minut.pl/liga/1/liga12330.html\")\n",
    "soup = BeautifulSoup(page.content, features=\"html.parser\")\n",
    "scores = soup.findAll(\"a\", {\"class\": \"main\"})\n",
    "dates = soup.findAll(\"td\", valign=\"top\", align=\"left\",width=\"190\")\n",
    "soup = soup.findAll(\"td\", valign=\"top\", width=\"180\")\n",
    "months = {\n",
    "    \"stycznia\": \"January\",\n",
    "    \"lutego\": \"February\",\n",
    "    \"marca\": \"March\",\n",
    "    \"kwietnia\": \"April\",\n",
    "    \"maja\": \"May\",\n",
    "    \"czerwca\": \"June\",\n",
    "    \"lipca\": \"July\",\n",
    "    \"sierpnia\": \"August\",\n",
    "    \"września\": \"September\",\n",
    "    \"października\": \"October\",\n",
    "    \"listopada\": \"November\",\n",
    "    \"grudnia\": \"December\"\n",
    "}"
   ]
  },
  {
   "cell_type": "code",
   "execution_count": 80,
   "id": "6268a614-da96-44a5-8de8-4b03c5a74031",
   "metadata": {
    "scrolled": true,
    "tags": []
   },
   "outputs": [],
   "source": [
    "def delete_comma(text:str)->str:\n",
    "    if ',' in text:\n",
    "        return text.split(',')[0]\n",
    "    else:\n",
    "        return text"
   ]
  },
  {
   "cell_type": "code",
   "execution_count": 81,
   "id": "5a31fb79-d327-4c6a-9f0b-1575a200fb67",
   "metadata": {
    "tags": []
   },
   "outputs": [],
   "source": [
    "def pl_months_to_eng(data_str:str)->datetime:\n",
    "\n",
    "\n",
    "    day, month, year = data_str.split()\n",
    "\n",
    "\n",
    "    month = months[month]\n",
    "\n",
    "\n",
    "    data_str_en = f\"{day} {month} {year}\"\n",
    "\n",
    "\n",
    "    data = datetime.strptime(data_str_en, \"%d %B %Y\")\n",
    "    return data"
   ]
  },
  {
   "cell_type": "code",
   "execution_count": 82,
   "id": "3ede9425",
   "metadata": {
    "tags": []
   },
   "outputs": [],
   "source": [
    "def add_points(team:str,points:float,table):\n",
    "       table[table(table[\"Team_name\"].equals(team)).index,1]=+points"
   ]
  },
  {
   "cell_type": "code",
   "execution_count": 83,
   "id": "e6aaf926",
   "metadata": {},
   "outputs": [],
   "source": [
    "EXTRA_POINTS_WIN=0.25\n",
    "EXTRA_POINTS_DRAW=0.0\n",
    "POINTS_WIN=3.0\n",
    "POINTS_DRAW=1.0\n",
    "POINTS_LOST=0.0\n",
    "pd.options.mode.chained_assignment = None  # default='warn'"
   ]
  },
  {
   "cell_type": "code",
   "execution_count": 84,
   "id": "17e9e21f-6040-4faf-b06f-ef7cf98e56e3",
   "metadata": {
    "tags": []
   },
   "outputs": [],
   "source": [
    "team = []\n",
    "score = []\n",
    "date=[]\n",
    "new_date=[]\n",
    "for i in soup:\n",
    "    team.append(i.getText())\n",
    "for i in scores:\n",
    "    score.append(i.getText())\n",
    "for i in dates:\n",
    "    date.append(i.getText())\n",
    "\n",
    "score=score[:len(score)-2]\n",
    "score=score[-307:]\n",
    "score=score[:len(score)]\n",
    "score.remove('(wo) ')\n",
    "new_date=list(map(delete_comma,date))\n",
    "\n",
    "home=[]\n",
    "away=[]\n",
    "for i in range(0,len(team)):\n",
    "    if i%2==0:\n",
    "        home.append(team[i])\n",
    "    else:\n",
    "        away.append(team[i])   \n",
    "for i in range(0,len(new_date)):\n",
    "    if \"lipca\" in new_date[i] or \"sierpnia\" in new_date[i] or \"września\" in new_date[i] or \"października\" in new_date[i] or \"listopada\" in new_date[i]:\n",
    "        new_date[i]+=\" 2021\"\n",
    "    else:\n",
    "        new_date[i]+= \" 2022\"\n",
    "        \n",
    "\n",
    "    "
   ]
  },
  {
   "cell_type": "code",
   "execution_count": 85,
   "id": "35835fd7-9c01-450d-ab9a-939d428e4f5d",
   "metadata": {
    "tags": []
   },
   "outputs": [],
   "source": [
    "t_date=list(map(pl_months_to_eng,new_date))\n"
   ]
  },
  {
   "cell_type": "code",
   "execution_count": 86,
   "id": "06a0f67d-4dd9-4026-a05e-cc221f8a3706",
   "metadata": {
    "tags": []
   },
   "outputs": [],
   "source": [
    "home_goal=[]\n",
    "away_goal=[]\n",
    "for i in score:\n",
    "    home_goal.append(i[0])\n",
    "    away_goal.append(i[2])\n",
    "\n"
   ]
  },
  {
   "cell_type": "code",
   "execution_count": 87,
   "id": "a61ab541-2b5a-432d-b137-d14aae62a092",
   "metadata": {
    "tags": []
   },
   "outputs": [],
   "source": [
    "dataMatrix={'Home_team':home,\n",
    "            'Home_score':list(map(int,home_goal)),\n",
    "            'Away_score':list(map(int,away_goal)),\n",
    "            'Away_team':away,\n",
    "            'date':t_date}\n",
    "out_data=pd.DataFrame(dataMatrix)\n"
   ]
  },
  {
   "cell_type": "code",
   "execution_count": 88,
   "id": "c40f100c-d0be-49d1-b828-0a115a62b5dd",
   "metadata": {
    "tags": []
   },
   "outputs": [],
   "source": [
    "points_home=[]\n",
    "points_away=[]\n",
    "for i in range(0,len(out_data.iloc[:,0])):\n",
    "    if (out_data.iloc[i,1]>out_data.iloc[i,2]):\n",
    "        points_home.append(POINTS_WIN)\n",
    "        points_away.append(POINTS_LOST)\n",
    "    elif (out_data.iloc[i,1]<out_data.iloc[i,2]):\n",
    "        points_home.append(POINTS_LOST)\n",
    "        points_away.append(POINTS_WIN)\n",
    "    else:\n",
    "        points_home.append(POINTS_DRAW)\n",
    "        points_away.append(POINTS_DRAW)\n",
    "out_data[\"Points_home\"]=points_home\n",
    "out_data[\"Points_away\"]=points_away       "
   ]
  },
  {
   "cell_type": "code",
   "execution_count": 89,
   "id": "1525b176-f603-4b07-acbe-b22689e1d9f3",
   "metadata": {
    "tags": []
   },
   "outputs": [],
   "source": [
    "team=out_data[\"Home_team\"].unique()\n",
    "points=[0]*len(team)\n",
    "Table={\"Team_name\":team,\n",
    "      \"Points\":points}\n",
    "Table=pd.DataFrame(Table)\n",
    "\n"
   ]
  },
  {
   "cell_type": "code",
   "execution_count": 90,
   "id": "6e90118e",
   "metadata": {
    "tags": []
   },
   "outputs": [],
   "source": [
    "\n",
    "\n",
    "for i in range(0,len(out_data[\"Home_team\"])):    \n",
    "    p=out_data.iloc[i][\"Points_home\"]\n",
    "    t=out_data.iloc[i][\"Home_team\"]\n",
    "    for j in range(0,len(Table['Team_name'])):\n",
    "        if Table.iloc[j]['Team_name'] == t:\n",
    "            Table.iat[j,1]=Table.iat[j,1]+p       \n",
    "    p=out_data.iloc[i][\"Points_away\"]\n",
    "    t=out_data.iloc[i][\"Away_team\"]\n",
    "    for j in range(0,len(Table['Team_name'])):\n",
    "        if Table.iloc[j]['Team_name'] == t:\n",
    "            Table.iat[j,1]=Table.iat[j,1]+p      \n",
    "    \n",
    "\n"
   ]
  },
  {
   "cell_type": "code",
   "execution_count": 91,
   "id": "5ecfcc82-9556-430a-a96c-367589daec41",
   "metadata": {
    "tags": []
   },
   "outputs": [
    {
     "name": "stdout",
     "output_type": "stream",
     "text": [
      "                     Home_team  Home_score  Away_score           Away_team  \\\n",
      "6          Raków Częstochowa             1           0      Warta Poznań     \n",
      "8             Zagłębie Lubin             0           0     Śląsk Wrocław     \n",
      "1      Jagiellonia Białystok             2           0     Piast Gliwice     \n",
      "2              Korona Kielce             1           1    Legia Warszawa     \n",
      "3                Lech Poznań             0           2       Stal Mielec     \n",
      "..                         ...         ...         ...                 ...   \n",
      "300            Miedź Legnica             0           0     Górnik Zabrze     \n",
      "301            Piast Gliwice             3           0     Lechia Gdańsk     \n",
      "302           Pogoń Szczecin             4           0    Radomiak Radom     \n",
      "303        Raków Częstochowa             1           1    Zagłębie Lubin     \n",
      "305              Widzew Łódź             0           3     Korona Kielce     \n",
      "\n",
      "          date  Points_home  Points_away  \n",
      "6   2021-07-15          3.0          0.0  \n",
      "8   2021-07-15          1.0          1.0  \n",
      "1   2021-07-16          3.0          0.0  \n",
      "2   2021-07-16          1.0          1.0  \n",
      "3   2021-07-16          0.0          3.0  \n",
      "..         ...          ...          ...  \n",
      "300 2022-05-27          1.0          1.0  \n",
      "301 2022-05-27          3.0          0.0  \n",
      "302 2022-05-27          3.0          0.0  \n",
      "303 2022-05-27          1.0          1.0  \n",
      "305 2022-05-27          0.0          3.0  \n",
      "\n",
      "[306 rows x 7 columns]\n"
     ]
    }
   ],
   "source": [
    "out_data=out_data.sort_values(by=['date'], ascending=True)\n",
    "print(out_data)"
   ]
  },
  {
   "cell_type": "code",
   "execution_count": 92,
   "id": "c47736a2-ae3f-4e6f-bac7-80cf3db74aac",
   "metadata": {},
   "outputs": [],
   "source": [
    "points_home=[]\n",
    "points_away=[]\n",
    "for i in range(0,len(out_data.iloc[:,0])):\n",
    "    if (out_data.iloc[i,1]>out_data.iloc[i,2]):\n",
    "        points_home.append(EXTRA_POINTS_WIN)\n",
    "        points_away.append(-EXTRA_POINTS_WIN)\n",
    "    elif (out_data.iloc[i,1]<out_data.iloc[i,2]):\n",
    "        points_home.append(-EXTRA_POINTS_WIN)\n",
    "        points_away.append(EXTRA_POINTS_WIN)\n",
    "    else:\n",
    "        points_home.append(EXTRA_POINTS_DRAW)\n",
    "        points_away.append(EXTRA_POINTS_DRAW)\n",
    "out_data[\"Home_team_temp_points\"]=points_home\n",
    "out_data[\"Away_team_temp_points\"]=points_away"
   ]
  },
  {
   "cell_type": "code",
   "execution_count": 93,
   "id": "97ead2d8",
   "metadata": {},
   "outputs": [],
   "source": [
    "\n",
    "def get_team_form(team_name:str)->dict:\n",
    "    tmpTeam=(out_data[out_data[\"Away_team\"].str.contains(team_name) | out_data[\"Home_team\"].str.contains(team_name)])\n",
    "    tmpTeam=tmpTeam.sort_values(by=[\"date\"],ascending=True)\n",
    "    dateDiff=[]\n",
    "    for i in range(1,len(tmpTeam.iloc[:,0])):\n",
    "        dateDiff.append((tmpTeam.iloc[i][4]-tmpTeam.iloc[i-1][4])/(60*60*24))\n",
    "    dateDiff.insert(0,0)\n",
    "\n",
    "    tmpTeam[\"Data_difference\"]=dateDiff\n",
    "\n",
    "\n",
    "    tmpTeamPoints=[]\n",
    "    for i in range (0,len(tmpTeam.iloc[:,0])):\n",
    "        if(tmpTeam.iloc[i][0]==team_name):\n",
    "            tmpTeamPoints.append(tmpTeam.iloc[i][7])\n",
    "        if(tmpTeam.iloc[i][3]==team_name):\n",
    "            tmpTeamPoints.append(tmpTeam.iloc[i][8])\n",
    "                    \n",
    "\n",
    "\n",
    "\n",
    "    dateDiff=[i.total_seconds() for i in dateDiff if isinstance(i,timedelta)]\n",
    "\n",
    "    dateDiff.insert(0,0)\n",
    "    \n",
    "    addedPoints=[]\n",
    "    j=0\n",
    "    for i in range(len(tmpTeamPoints)): \n",
    "        if i<4:\n",
    "            addedPoints.append(tmpTeamPoints[i])\n",
    "        else:\n",
    "            if (dateDiff[i]==max(dateDiff) and j==0) or (j<4 and j>0):\n",
    "                j+=1\n",
    "                addedPoints.append(tmpTeamPoints[i])\n",
    "            else:    \n",
    "                addedPoints.append(round(sum(tmpTeamPoints[i-4:i]),2))\n",
    "\n",
    "    p_dict = dict(zip(tmpTeam[\"Index\"], addedPoints))\n",
    "    d_dict = dict(zip(tmpTeam[\"Index\"], dateDiff))\n",
    "    return p_dict,d_dict\n"
   ]
  },
  {
   "cell_type": "code",
   "execution_count": 94,
   "id": "9177017c",
   "metadata": {},
   "outputs": [],
   "source": [
    "\n",
    "out_data[\"Index\"]=out_data.index\n",
    "\n",
    "out_data=out_data.assign(Accumulated_home_points=None)\n",
    "out_data=out_data.assign(Accumulated_away_points=None)\n",
    "out_data=out_data.assign(Add_Accumulated_home_points=None)\n",
    "out_data=out_data.assign(Add_Accumulated_away_points=None)\n",
    "out_data=out_data.sort_values(by=[\"Index\"],ascending=True)"
   ]
  },
  {
   "cell_type": "code",
   "execution_count": 95,
   "id": "91b77cc4",
   "metadata": {},
   "outputs": [],
   "source": [
    "\n",
    "\n",
    "for t in team:\n",
    "    dic,dateDif=get_team_form(t)\n",
    "    \n",
    "    for key in dic:\n",
    "        for i in range(0,out_data.shape[0]):\n",
    "            if key==i and t in out_data.iloc[i][0]:\n",
    "                out_data.iat[i,10]=dic[key]\n",
    "                out_data.iat[i,12]=dateDif[key]\n",
    "            if key==i and t in out_data.iloc[i][3]:\n",
    "                out_data.iat[i,11]=dic[key]\n",
    "                out_data.iat[i,13]=dateDif[key]    "
   ]
  },
  {
   "cell_type": "code",
   "execution_count": 96,
   "id": "79139aea",
   "metadata": {},
   "outputs": [],
   "source": [
    "\n",
    "out_data['Add_Accumulated_home_points'] = pd.to_numeric(out_data['Add_Accumulated_home_points'], errors='coerce').astype(float)\n",
    "out_data['Add_Accumulated_away_points'] = pd.to_numeric(out_data['Add_Accumulated_away_points'], errors='coerce').astype(float)\n",
    "\n",
    "largest_values=[]\n",
    "largest_values.append(out_data[\"Add_Accumulated_home_points\"].nlargest(9))\n",
    "largest_values.append(out_data[\"Add_Accumulated_away_points\"].nlargest(9))\n",
    "\n"
   ]
  },
  {
   "cell_type": "code",
   "execution_count": 97,
   "id": "481e496c",
   "metadata": {},
   "outputs": [],
   "source": [
    "out_data=out_data.assign(Should_add_accumulated_points_home=None)\n",
    "out_data=out_data.assign(Should_add_accumulated_points_away=None)\n",
    "out_data=out_data.sort_values(by=[\"date\"],ascending=True)\n",
    "for i in range(0,out_data.shape[0]):\n",
    "    if i in range(0,9):\n",
    "        out_data.iat[i,14],out_data.iat[i,15]=1,1\n",
    "    if (out_data.iat[i,12] == largest_values).any():\n",
    "         out_data.iat[i,14]=1\n",
    "    if (out_data.iat[i,13] == largest_values).any():\n",
    "         out_data.iat[i,15]=1\n",
    "    \n"
   ]
  },
  {
   "cell_type": "code",
   "execution_count": 98,
   "id": "d5a9ef67",
   "metadata": {},
   "outputs": [],
   "source": [
    "for team_name in team:\n",
    "    modified_rows=(out_data[out_data[\"Away_team\"].str.contains(team_name) | out_data[\"Home_team\"].str.contains(team_name)])\n",
    "    indexes=[]\n",
    "    for i in range(0,modified_rows.shape[0]):\n",
    "        if modified_rows.iat[i,14]==1 and modified_rows.iat[i,0]==team_name:\n",
    "            indexes+=list(range(i,i+4))\n",
    "            if i+4>modified_rows.shape[0]:\n",
    "                break\n",
    "            else:\n",
    "                i=i+4\n",
    "        if modified_rows.iat[i,15]==1 and modified_rows.iat[i,3]==team_name:\n",
    "            indexes+=list(range(i,i+4))\n",
    "            if i+4>modified_rows.shape[0]:\n",
    "                break    \n",
    "            else:\n",
    "                i=i+4\n",
    "    for i in range(0,modified_rows.shape[0]):\n",
    "        if modified_rows.iat[i,0]==team_name and i in indexes:\n",
    "            modified_rows.iat[i,14]=1\n",
    "        elif modified_rows.iat[i,3]==team_name and i in indexes:\n",
    "            modified_rows.iat[i,15]=1               \n",
    "    out_data.update(modified_rows)"
   ]
  },
  {
   "cell_type": "code",
   "execution_count": 99,
   "id": "c6b7c806",
   "metadata": {},
   "outputs": [],
   "source": [
    "out_data=out_data.assign(Final_accumulated_home_points=None)\n",
    "out_data=out_data.assign(Final_accumulated_away_points=None)"
   ]
  },
  {
   "cell_type": "code",
   "execution_count": 100,
   "metadata": {},
   "outputs": [],
   "source": [
    "for i in range(0,out_data.shape[0]):\n",
    "    if out_data.iat[i,15]==1:\n",
    "        out_data.iat[i,16]=out_data.iat[i,5]\n",
    "    if out_data.iat[i,14]==1:\n",
    "        out_data.iat[i,17]=out_data.iat[i,6]\n",
    "    if out_data.iat[i,15]!=1:\n",
    "        if out_data.iat[i,5]==0 and out_data.iat[i,11]>0:\n",
    "            out_data.iat[i,16]=out_data.iat[i,5]\n",
    "        else:\n",
    "            out_data.iat[i,16]=out_data.iat[i,5]+out_data.iat[i,11]\n",
    "    if out_data.iat[i,14]!=1:      \n",
    "        if out_data.iat[i,6]==0 and out_data.iat[i,10]>0:\n",
    "            out_data.iat[i,17]=out_data.iat[i,6]\n",
    "        else:\n",
    "            out_data.iat[i,17]=out_data.iat[i,6]+out_data.iat[i,10]   \n"
   ]
  },
  {
   "cell_type": "code",
   "execution_count": 113,
   "id": "7a416e4b",
   "metadata": {},
   "outputs": [],
   "source": [
    "table2={\"Team_name\":team,\n",
    "      \"Points\":points}\n",
    "table2=pd.DataFrame(table2)\n",
    "\n",
    "for i in range(0,out_data.shape[0]):    \n",
    "    p=out_data.iloc[i][\"Final_accumulated_home_points\"]\n",
    "    t=out_data.iloc[i][\"Home_team\"]\n",
    "    for j in range(0,table2.shape[0]):\n",
    "        if table2.iloc[j]['Team_name'] == t:\n",
    "            table2.iat[j,1]=table2.iat[j,1]+p       \n",
    "    p=out_data.iloc[i][\"Final_accumulated_away_points\"]\n",
    "    t=out_data.iloc[i][\"Away_team\"]\n",
    "    for j in range(0,table2.shape[0]):\n",
    "        if table2.iloc[j]['Team_name'] == t:\n",
    "            table2.iat[j,1]=table2.iat[j,1]+p \n"
   ]
  },
  {
   "cell_type": "code",
   "execution_count": 114,
   "id": "32b11ae4",
   "metadata": {},
   "outputs": [
    {
     "name": "stdout",
     "output_type": "stream",
     "text": [
      "                    Team_name  Points\n",
      "6         Raków Częstochowa     71.50\n",
      "11           Legia Warszawa     66.25\n",
      "4            Pogoń Szczecin     62.00\n",
      "3               Lech Poznań     60.25\n",
      "13            Piast Gliwice     48.50\n",
      "0             Górnik Zabrze     47.75\n",
      "8            Zagłębie Lubin     44.25\n",
      "5            Radomiak Radom     43.00\n",
      "16             Warta Poznań     42.75\n",
      "9                  Cracovia     42.00\n",
      "14              Stal Mielec     38.75\n",
      "2             Korona Kielce     38.75\n",
      "17              Widzew Łódź     37.00\n",
      "1     Jagiellonia Białystok     36.00\n",
      "7               Wisła Płock     36.00\n",
      "15            Śląsk Wrocław     34.25\n",
      "10            Lechia Gdańsk     29.50\n",
      "12            Miedź Legnica     21.25\n",
      "                    Team_name  Points\n",
      "6         Raków Częstochowa        75\n",
      "11           Legia Warszawa        66\n",
      "3               Lech Poznań        61\n",
      "4            Pogoń Szczecin        60\n",
      "13            Piast Gliwice        53\n",
      "0             Górnik Zabrze        48\n",
      "9                  Cracovia        46\n",
      "8            Zagłębie Lubin        45\n",
      "16             Warta Poznań        45\n",
      "5            Radomiak Radom        44\n",
      "14              Stal Mielec        43\n",
      "1     Jagiellonia Białystok        41\n",
      "2             Korona Kielce        41\n",
      "17              Widzew Łódź        41\n",
      "15            Śląsk Wrocław        38\n",
      "7               Wisła Płock        37\n",
      "10            Lechia Gdańsk        30\n",
      "12            Miedź Legnica        23\n"
     ]
    }
   ],
   "source": [
    "table2=table2.sort_values(by=[\"Points\"],ascending=False)\n",
    "print(table2)\n",
    "Table=Table.sort_values(by=[\"Points\"],ascending=False)\n",
    "print(Table)\n",
    "\n"
   ]
  },
  {
   "cell_type": "code",
   "execution_count": 103,
   "id": "d4b383f4",
   "metadata": {},
   "outputs": [],
   "source": [
    "SAVE_FINAL_DATA_FRAME_TO_CSV=False\n",
    "if SAVE_FINAL_DATA_FRAME_TO_CSV:\n",
    "    out_data.to_csv(\"Ekstraklasa_2022-23.csv\")\n",
    "\n"
   ]
  }
 ],
 "metadata": {
  "celltoolbar": "Raw Cell Format",
  "kernelspec": {
   "display_name": "base",
   "language": "python",
   "name": "python3"
  },
  "language_info": {
   "codemirror_mode": {
    "name": "ipython",
    "version": 3
   },
   "file_extension": ".py",
   "mimetype": "text/x-python",
   "name": "python",
   "nbconvert_exporter": "python",
   "pygments_lexer": "ipython3",
   "version": "3.11.5"
  },
  "toc-autonumbering": true,
  "toc-showcode": true,
  "toc-showmarkdowntxt": true,
  "widgets": {
   "application/vnd.jupyter.widget-state+json": {
    "state": {},
    "version_major": 2,
    "version_minor": 0
   }
  }
 },
 "nbformat": 4,
 "nbformat_minor": 5
}
